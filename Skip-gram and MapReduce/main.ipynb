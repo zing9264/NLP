{
 "metadata": {
  "language_info": {
   "codemirror_mode": {
    "name": "ipython",
    "version": 3
   },
   "file_extension": ".py",
   "mimetype": "text/x-python",
   "name": "python",
   "nbconvert_exporter": "python",
   "pygments_lexer": "ipython3",
   "version": "3.8.1-final"
  },
  "orig_nbformat": 2,
  "kernelspec": {
   "name": "Python 3.8.1 64-bit ('py38': conda)",
   "display_name": "Python 3.8.1 64-bit ('py38': conda)",
   "metadata": {
    "interpreter": {
     "hash": "37c45363effc1ec69a1547edd7ddbc58fe91efcb43fdabe8bd1fd3e82eaa1a90"
    }
   }
  }
 },
 "nbformat": 4,
 "nbformat_minor": 2,
 "cells": [
  {
   "cell_type": "code",
   "execution_count": 68,
   "metadata": {},
   "outputs": [],
   "source": [
    "import fileinput\n",
    "from tqdm import tqdm\n",
    "from collections import Counter\n",
    "from multiprocessing import Pool\n",
    "\n",
    "\n",
    "\n",
    "def mapper(row):\n",
    "    i=0\n",
    "    try:\n",
    "        data=row.split(\"\\t\")\n",
    "        cnt=data[1]\n",
    "        strings=data[0].split(\" \")\n",
    "        first=strings[0]\n",
    "        end=strings[-1]\n",
    "        skiped=len(strings)-1\n",
    "\n",
    "        if(skiped==0):\n",
    "            return None\n",
    "        return ((first+' '+end,skiped),cnt)\n",
    "    except:\n",
    "        return None\n",
    "\n",
    "\n",
    "def reducer(data):\n",
    "    total_dict = {}\n",
    "\n",
    "    for item in data:\n",
    "        if(total_dict.get(item[0])==None):\n",
    "            print(item)\n",
    "            total_dict[item[0]]=item[1]\n",
    "        else:\n",
    "            total_dict[item[0]]=total_dict[item[0]]+item[1]\n",
    "    return total_dict"
   ]
  },
  {
   "cell_type": "code",
   "execution_count": 58,
   "metadata": {},
   "outputs": [
    {
     "output_type": "stream",
     "name": "stdout",
     "text": [
      "{('is excellent', 2): 235980, ('is excellent', 3): 1123560, ('is excellent', 4): 371556}\n('is excellent', 3) 1123560\n('is excellent', 4) 371556\n('is excellent', 2) 235980\n"
     ]
    }
   ],
   "source": [
    "\n",
    "data=[(('is excellent', 2), 120),(('is excellent', 2), 999),(('is excellent', 2), 5436),(('is excellent', 3), 31210),(('is excellent', 4), 10321)]\n",
    "reducer(data)\n",
    "\n",
    "print(total_dict)\n",
    "\n",
    "sort_orders = sorted(total_dict.items(), key=lambda x: x[1], reverse=True)\n",
    "\n",
    "fileObject = open('ReduceTmp.txt', 'w')\n",
    "sort_orders = sorted(total_dict.items(), key=lambda x: x[1], reverse=True)\n",
    "for i in sort_orders:\n",
    "    fileObject.write(str(i))\n",
    "    fileObject.write('\\n')\n",
    "    print(i[0], i[1])\n",
    "fileObject.close()\n"
   ]
  },
  {
   "cell_type": "code",
   "execution_count": 11,
   "metadata": {},
   "outputs": [
    {
     "output_type": "stream",
     "name": "stdout",
     "text": [
      "(('a error', 4), '41')\n(('a error', 4), '112')\n(('a error', 4), '88')\n(('a error', 4), '74')\n(('a error', 4), '76')\n(('a error', 4), '109')\n(('a error', 4), '75')\n(('a error', 4), '65')\n(('a error', 4), '1161')\n(('a error', 4), '5448')\n(('a error', 4), '72')\n(('a error', 4), '351')\n(('a error', 4), '54')\n(('a error', 4), '173')\n(('a error', 4), '229')\n(('a error', 4), '1074')\n(('a error', 4), '48')\n(('a error', 4), '109')\n(('a error', 4), '102')\n(('a error', 4), '101')\n(('a error', 4), '58')\n(('a error', 4), '111')\n(('a error', 4), '67')\n(('a error', 4), '659')\n(('a error', 4), '205')\n(('a error', 4), '228')\n(('a error', 4), '120')\n(('a error', 4), '100')\n(('a error', 4), '111')\n(('a error', 4), '65')\n(('a error', 4), '2293')\n(('a error', 4), '474')\n(('a error', 4), '52')\n(('a error', 4), '52')\n(('a error', 4), '155')\n(('a error', 4), '83')\n(('a error', 4), '58')\n(('a error', 4), '113')\n(('a error', 4), '70')\n(('a error', 4), '45')\n(('a error', 4), '108')\n(('a error', 4), '42')\n(('a error', 4), '301')\n(('a error', 4), '45')\n(('a error', 4), '42')\n(('a error', 4), '585')\n(('a error', 4), '70')\n(('a error', 4), '41')\n(('a error', 4), '97')\n(('a error', 4), '137')\n"
     ]
    }
   ],
   "source": [
    "f= open(\"mapperTmp.txt\", 'r')\n",
    "for i in range(1000000):\n",
    "    f.readline().strip()\n",
    "for i in range(50):\n",
    "    print(f.readline().strip())\n",
    "f.close()\n",
    "\n",
    "\n"
   ]
  },
  {
   "cell_type": "code",
   "execution_count": 5,
   "metadata": {
    "tags": []
   },
   "outputs": [
    {
     "output_type": "stream",
     "name": "stdout",
     "text": [
      "(('of the', 1), 2766332471)\n(('in the', 1), 1628795548)\n(('the of', 2), 1171895754)\n(('to the', 1), 1139249097)\n(('on the', 1), 800328923)\n(('for the', 1), 692874911)\n(('and the', 1), 629727229)\n(('to be', 1), 505149048)\n(('a of', 2), 504120680)\n(('is a', 1), 476719062)\n(('with the', 1), 461331419)\n(('from the', 1), 428303305)\n(('the the', 3), 424508598)\n(('by the', 1), 417106045)\n(('at the', 1), 416201550)\n(('to the', 2), 399946629)\n(('of a', 1), 387060526)\n(('in a', 1), 364730191)\n(('will be', 1), 356175009)\n(('that the', 1), 333393948)\n(('do not', 1), 326268010)\n(('is the', 1), 306482659)\n(('to a', 1), 279146683)\n(('is not', 1), 276753421)\n(('for a', 1), 274112554)\n(('with a', 1), 271525349)\n(('as a', 1), 270401841)\n(('of this', 1), 258707741)\n(('it is', 1), 245002755)\n(('can be', 1), 230215143)\n(('to a', 2), 205347935)\n(('the and', 2), 198254348)\n(('has been', 1), 196769958)\n(('and the', 2), 193275867)\n(('the same', 1), 186235801)\n(('does not', 1), 180844574)\n(('can not', 1), 180466484)\n(('and a', 1), 178504703)\n(('in this', 1), 174166565)\n(('have been', 1), 172884791)\n(('you can', 1), 172007855)\n(('may be', 1), 171738006)\n(('as the', 1), 169662690)\n(('on a', 1), 167105962)\n(('the to', 2), 163452349)\n(('the of', 3), 161369489)\n(('the first', 1), 159289040)\n(('have a', 1), 156027480)\n(('and of', 2), 153894135)\n(('not be', 1), 150433242)\n"
     ]
    }
   ],
   "source": [
    "f= open(\"ReduceTmp.txt\", 'r')\n",
    "for i in range(50):\n",
    "    print(f.readline().strip())\n",
    "f.close()"
   ]
  },
  {
   "cell_type": "code",
   "execution_count": null,
   "metadata": {},
   "outputs": [],
   "source": []
  }
 ]
}